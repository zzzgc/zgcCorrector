{
 "cells": [
  {
   "cell_type": "code",
   "execution_count": 1,
   "metadata": {},
   "outputs": [
    {
     "name": "stderr",
     "output_type": "stream",
     "text": [
      "Some weights of the model checkpoint at bert-base-chinese were not used when initializing BertModel: ['cls.predictions.transform.LayerNorm.weight', 'cls.predictions.bias', 'cls.seq_relationship.bias', 'cls.predictions.transform.LayerNorm.bias', 'cls.predictions.transform.dense.bias', 'cls.seq_relationship.weight', 'cls.predictions.transform.dense.weight', 'cls.predictions.decoder.weight']\n",
      "- This IS expected if you are initializing BertModel from the checkpoint of a model trained on another task or with another architecture (e.g. initializing a BertForSequenceClassification model from a BertForPreTraining model).\n",
      "- This IS NOT expected if you are initializing BertModel from the checkpoint of a model that you expect to be exactly identical (initializing a BertForSequenceClassification model from a BertForSequenceClassification model).\n"
     ]
    }
   ],
   "source": [
    "from transformers import AutoModel, AutoTokenizer\n",
    "import torch\n",
    "from torch import nn\n",
    "\n",
    "path = 'bert-base-chinese'\n",
    "model = AutoModel.from_pretrained(path)\n"
   ]
  },
  {
   "cell_type": "code",
   "execution_count": 13,
   "metadata": {},
   "outputs": [
    {
     "name": "stdout",
     "output_type": "stream",
     "text": [
      "tensor([ 0.0021,  0.0216,  0.0011,  0.0177,  0.0541,  0.0145, -0.0068,  0.0060,\n",
      "         0.0256, -0.0477], grad_fn=<SliceBackward>)\n",
      "tensor([-0.7179, -1.6963,  1.0346, -0.6289,  0.3529, -0.1464, -0.8421,  0.1799,\n",
      "        -0.0414, -1.7683])\n"
     ]
    }
   ],
   "source": [
    "v = torch.tensor([1])\n",
    "print(model.embeddings.word_embeddings(v)[0][:10])\n",
    "vv = torch.randn([21128, 768])\n",
    "model.embeddings.word_embeddings = nn.Embedding(21128,768).from_pretrained(vv)\n",
    "print(model.embeddings.word_embeddings(v)[0][:10])"
   ]
  }
 ],
 "metadata": {
  "kernelspec": {
   "display_name": "Python 3.8.8 ('mcc')",
   "language": "python",
   "name": "python3"
  },
  "language_info": {
   "codemirror_mode": {
    "name": "ipython",
    "version": 3
   },
   "file_extension": ".py",
   "mimetype": "text/x-python",
   "name": "python",
   "nbconvert_exporter": "python",
   "pygments_lexer": "ipython3",
   "version": "3.8.8"
  },
  "orig_nbformat": 4,
  "vscode": {
   "interpreter": {
    "hash": "b6ff2ac640cdb2cff097b557709e89ccd058407d9b91f1a1577328b6fee719eb"
   }
  }
 },
 "nbformat": 4,
 "nbformat_minor": 2
}
